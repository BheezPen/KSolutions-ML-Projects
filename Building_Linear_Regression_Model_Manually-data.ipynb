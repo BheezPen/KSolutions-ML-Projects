{
 "cells": [
  {
   "cell_type": "markdown",
   "id": "97ea9cbe-3929-42dc-bfb6-6dc733d3ab94",
   "metadata": {},
   "source": [
    "# Building a ML Model using Manual Linear Regression Algorithm"
   ]
  },
  {
   "cell_type": "markdown",
   "id": "050fe441-81ad-4239-81ba-46c1b1cf0514",
   "metadata": {},
   "source": [
    "#### Here, i have predicted using the Linear Regession algorithms without using the SK learn.\n",
    "#### I have only used the popular linear formula which include the ssr, sst and rsquare"
   ]
  },
  {
   "cell_type": "code",
   "execution_count": 64,
   "id": "d60c3f26-ee39-4da2-9266-012643bc4dab",
   "metadata": {},
   "outputs": [],
   "source": [
    "import pandas as pd #Using the pd alias.\n",
    "import numpy as np #Using np for the numpy alias."
   ]
  },
  {
   "cell_type": "code",
   "execution_count": 65,
   "id": "172065e5-faae-4261-8db6-0a4396adafc1",
   "metadata": {},
   "outputs": [
    {
     "data": {
      "text/html": [
       "<div>\n",
       "<style scoped>\n",
       "    .dataframe tbody tr th:only-of-type {\n",
       "        vertical-align: middle;\n",
       "    }\n",
       "\n",
       "    .dataframe tbody tr th {\n",
       "        vertical-align: top;\n",
       "    }\n",
       "\n",
       "    .dataframe thead th {\n",
       "        text-align: right;\n",
       "    }\n",
       "</style>\n",
       "<table border=\"1\" class=\"dataframe\">\n",
       "  <thead>\n",
       "    <tr style=\"text-align: right;\">\n",
       "      <th></th>\n",
       "      <th>x</th>\n",
       "      <th>y</th>\n",
       "    </tr>\n",
       "  </thead>\n",
       "  <tbody>\n",
       "    <tr>\n",
       "      <th>0</th>\n",
       "      <td>24</td>\n",
       "      <td>21.549452</td>\n",
       "    </tr>\n",
       "    <tr>\n",
       "      <th>1</th>\n",
       "      <td>50</td>\n",
       "      <td>47.464463</td>\n",
       "    </tr>\n",
       "    <tr>\n",
       "      <th>2</th>\n",
       "      <td>15</td>\n",
       "      <td>17.218656</td>\n",
       "    </tr>\n",
       "    <tr>\n",
       "      <th>3</th>\n",
       "      <td>38</td>\n",
       "      <td>36.586398</td>\n",
       "    </tr>\n",
       "    <tr>\n",
       "      <th>4</th>\n",
       "      <td>87</td>\n",
       "      <td>87.288984</td>\n",
       "    </tr>\n",
       "    <tr>\n",
       "      <th>...</th>\n",
       "      <td>...</td>\n",
       "      <td>...</td>\n",
       "    </tr>\n",
       "    <tr>\n",
       "      <th>140</th>\n",
       "      <td>56</td>\n",
       "      <td>59.162366</td>\n",
       "    </tr>\n",
       "    <tr>\n",
       "      <th>141</th>\n",
       "      <td>80</td>\n",
       "      <td>75.241484</td>\n",
       "    </tr>\n",
       "    <tr>\n",
       "      <th>142</th>\n",
       "      <td>26</td>\n",
       "      <td>28.223258</td>\n",
       "    </tr>\n",
       "    <tr>\n",
       "      <th>143</th>\n",
       "      <td>25</td>\n",
       "      <td>25.333237</td>\n",
       "    </tr>\n",
       "    <tr>\n",
       "      <th>144</th>\n",
       "      <td>8</td>\n",
       "      <td>6.364616</td>\n",
       "    </tr>\n",
       "  </tbody>\n",
       "</table>\n",
       "<p>145 rows × 2 columns</p>\n",
       "</div>"
      ],
      "text/plain": [
       "      x          y\n",
       "0    24  21.549452\n",
       "1    50  47.464463\n",
       "2    15  17.218656\n",
       "3    38  36.586398\n",
       "4    87  87.288984\n",
       "..   ..        ...\n",
       "140  56  59.162366\n",
       "141  80  75.241484\n",
       "142  26  28.223258\n",
       "143  25  25.333237\n",
       "144   8   6.364616\n",
       "\n",
       "[145 rows x 2 columns]"
      ]
     },
     "execution_count": 65,
     "metadata": {},
     "output_type": "execute_result"
    }
   ],
   "source": [
    "data = pd.read_csv('data.csv') #Loading our pre-processed data, i.e the data has been cleaned already\n",
    "\n",
    "data #echoing the variable now made it clear to see we have a clean datasets.\n",
    "#It cleared such that and mixing cell has been treated.\n",
    "# Its so clean that, the head of the datasets has been changed to x and y as seen below"
   ]
  },
  {
   "cell_type": "code",
   "execution_count": 66,
   "id": "5e7b1ce7-6572-480d-aba8-16e606d223ef",
   "metadata": {},
   "outputs": [
    {
     "data": {
      "text/plain": [
       "Index(['x', 'y'], dtype='object')"
      ]
     },
     "execution_count": 66,
     "metadata": {},
     "output_type": "execute_result"
    }
   ],
   "source": [
    "data.columns #Accessing the column of my datasets\n",
    "\n",
    "#i.e only used the column method to return the head of the columns present in the datasets.\n",
    "# This process make the data exploratory easy."
   ]
  },
  {
   "cell_type": "code",
   "execution_count": 67,
   "id": "eaddd252-d4e2-43ec-b4a8-83bc335e95c6",
   "metadata": {},
   "outputs": [
    {
     "data": {
      "text/plain": [
       "RangeIndex(start=0, stop=145, step=1)"
      ]
     },
     "execution_count": 67,
     "metadata": {},
     "output_type": "execute_result"
    }
   ],
   "source": [
    "data.index # this return the index of the rows in the datasets"
   ]
  },
  {
   "cell_type": "code",
   "execution_count": 89,
   "id": "bca508e8-5ded-412f-82a5-8a7b0d7a2924",
   "metadata": {},
   "outputs": [
    {
     "data": {
      "text/plain": [
       "<matplotlib.collections.PathCollection at 0x16ea245da10>"
      ]
     },
     "execution_count": 89,
     "metadata": {},
     "output_type": "execute_result"
    },
    {
     "data": {
      "image/png": "[encoded data removed]",
      "text/plain": [
       "<Figure size 640x480 with 1 Axes>"
      ]
     },
     "metadata": {},
     "output_type": "display_data"
    }
   ],
   "source": [
    "import matplotlib.pyplot as plt\n",
    "\n",
    "from sklearn import linear_model\n",
    "\n",
    "plt.xlabel('Independent Variable')\n",
    "plt.ylabel('Dependent Variable')\n",
    "plt.scatter(data.x,data.y, color = 'red', marker = '+')\n",
    "\n",
    "#This helps inform that the datasets fit into linear regression when to be used in building a model"
   ]
  },
  {
   "cell_type": "code",
   "execution_count": 69,
   "id": "870ef7ed-92b6-4c1e-8eec-7aa50be7a233",
   "metadata": {},
   "outputs": [],
   "source": [
    "# As from my formula for Linear regression, to calculate B, where b is the Coefficient Value\n",
    "# B = (x^T  x)^-1 x^T Y\n",
    "# TO calculate B, we then need x, x Transpose (i.e x^T), y\n",
    "# then, Lets get x and y first."
   ]
  },
  {
   "cell_type": "code",
   "execution_count": 70,
   "id": "26f0a061-5c0c-4c14-812d-8761c581340f",
   "metadata": {},
   "outputs": [
    {
     "data": {
      "text/html": [
       "<div>\n",
       "<style scoped>\n",
       "    .dataframe tbody tr th:only-of-type {\n",
       "        vertical-align: middle;\n",
       "    }\n",
       "\n",
       "    .dataframe tbody tr th {\n",
       "        vertical-align: top;\n",
       "    }\n",
       "\n",
       "    .dataframe thead th {\n",
       "        text-align: right;\n",
       "    }\n",
       "</style>\n",
       "<table border=\"1\" class=\"dataframe\">\n",
       "  <thead>\n",
       "    <tr style=\"text-align: right;\">\n",
       "      <th></th>\n",
       "      <th>x</th>\n",
       "      <th>y</th>\n",
       "    </tr>\n",
       "  </thead>\n",
       "  <tbody>\n",
       "    <tr>\n",
       "      <th>count</th>\n",
       "      <td>145.000000</td>\n",
       "      <td>145.000000</td>\n",
       "    </tr>\n",
       "    <tr>\n",
       "      <th>mean</th>\n",
       "      <td>43.744828</td>\n",
       "      <td>43.630939</td>\n",
       "    </tr>\n",
       "    <tr>\n",
       "      <th>std</th>\n",
       "      <td>27.116462</td>\n",
       "      <td>26.951099</td>\n",
       "    </tr>\n",
       "    <tr>\n",
       "      <th>min</th>\n",
       "      <td>0.000000</td>\n",
       "      <td>-1.286311</td>\n",
       "    </tr>\n",
       "    <tr>\n",
       "      <th>25%</th>\n",
       "      <td>21.000000</td>\n",
       "      <td>22.623654</td>\n",
       "    </tr>\n",
       "    <tr>\n",
       "      <th>50%</th>\n",
       "      <td>42.000000</td>\n",
       "      <td>43.265951</td>\n",
       "    </tr>\n",
       "    <tr>\n",
       "      <th>75%</th>\n",
       "      <td>68.000000</td>\n",
       "      <td>62.649317</td>\n",
       "    </tr>\n",
       "    <tr>\n",
       "      <th>max</th>\n",
       "      <td>95.000000</td>\n",
       "      <td>94.684883</td>\n",
       "    </tr>\n",
       "  </tbody>\n",
       "</table>\n",
       "</div>"
      ],
      "text/plain": [
       "                x           y\n",
       "count  145.000000  145.000000\n",
       "mean    43.744828   43.630939\n",
       "std     27.116462   26.951099\n",
       "min      0.000000   -1.286311\n",
       "25%     21.000000   22.623654\n",
       "50%     42.000000   43.265951\n",
       "75%     68.000000   62.649317\n",
       "max     95.000000   94.684883"
      ]
     },
     "execution_count": 70,
     "metadata": {},
     "output_type": "execute_result"
    }
   ],
   "source": [
    "data.describe()"
   ]
  },
  {
   "cell_type": "code",
   "execution_count": 71,
   "id": "75ae337a-e2c6-4731-8d6b-ef9e6c3cae72",
   "metadata": {},
   "outputs": [
    {
     "data": {
      "text/html": [
       "<div>\n",
       "<style scoped>\n",
       "    .dataframe tbody tr th:only-of-type {\n",
       "        vertical-align: middle;\n",
       "    }\n",
       "\n",
       "    .dataframe tbody tr th {\n",
       "        vertical-align: top;\n",
       "    }\n",
       "\n",
       "    .dataframe thead th {\n",
       "        text-align: right;\n",
       "    }\n",
       "</style>\n",
       "<table border=\"1\" class=\"dataframe\">\n",
       "  <thead>\n",
       "    <tr style=\"text-align: right;\">\n",
       "      <th></th>\n",
       "      <th>x</th>\n",
       "    </tr>\n",
       "  </thead>\n",
       "  <tbody>\n",
       "    <tr>\n",
       "      <th>0</th>\n",
       "      <td>24</td>\n",
       "    </tr>\n",
       "    <tr>\n",
       "      <th>1</th>\n",
       "      <td>50</td>\n",
       "    </tr>\n",
       "    <tr>\n",
       "      <th>2</th>\n",
       "      <td>15</td>\n",
       "    </tr>\n",
       "    <tr>\n",
       "      <th>3</th>\n",
       "      <td>38</td>\n",
       "    </tr>\n",
       "    <tr>\n",
       "      <th>4</th>\n",
       "      <td>87</td>\n",
       "    </tr>\n",
       "    <tr>\n",
       "      <th>...</th>\n",
       "      <td>...</td>\n",
       "    </tr>\n",
       "    <tr>\n",
       "      <th>140</th>\n",
       "      <td>56</td>\n",
       "    </tr>\n",
       "    <tr>\n",
       "      <th>141</th>\n",
       "      <td>80</td>\n",
       "    </tr>\n",
       "    <tr>\n",
       "      <th>142</th>\n",
       "      <td>26</td>\n",
       "    </tr>\n",
       "    <tr>\n",
       "      <th>143</th>\n",
       "      <td>25</td>\n",
       "    </tr>\n",
       "    <tr>\n",
       "      <th>144</th>\n",
       "      <td>8</td>\n",
       "    </tr>\n",
       "  </tbody>\n",
       "</table>\n",
       "<p>145 rows × 1 columns</p>\n",
       "</div>"
      ],
      "text/plain": [
       "      x\n",
       "0    24\n",
       "1    50\n",
       "2    15\n",
       "3    38\n",
       "4    87\n",
       "..   ..\n",
       "140  56\n",
       "141  80\n",
       "142  26\n",
       "143  25\n",
       "144   8\n",
       "\n",
       "[145 rows x 1 columns]"
      ]
     },
     "execution_count": 71,
     "metadata": {},
     "output_type": "execute_result"
    }
   ],
   "source": [
    "x = data[['x']].copy()\n",
    "# accessed the x column from the imported datasets and then make a copy of it to the variable x\n",
    "x"
   ]
  },
  {
   "cell_type": "markdown",
   "id": "b6776b7b-f2df-4787-810d-8d4cf3addff4",
   "metadata": {},
   "source": [
    "### Now, after having the x variable, next is to add the unity (i.e 1 ) as column as proved the from linear equation\n",
    "### Now, Remember, we need to add one to the x column "
   ]
  },
  {
   "cell_type": "code",
   "execution_count": 72,
   "id": "7e15e044-f998-4126-9d34-297341452cbc",
   "metadata": {},
   "outputs": [
    {
     "data": {
      "text/html": [
       "<div>\n",
       "<style scoped>\n",
       "    .dataframe tbody tr th:only-of-type {\n",
       "        vertical-align: middle;\n",
       "    }\n",
       "\n",
       "    .dataframe tbody tr th {\n",
       "        vertical-align: top;\n",
       "    }\n",
       "\n",
       "    .dataframe thead th {\n",
       "        text-align: right;\n",
       "    }\n",
       "</style>\n",
       "<table border=\"1\" class=\"dataframe\">\n",
       "  <thead>\n",
       "    <tr style=\"text-align: right;\">\n",
       "      <th></th>\n",
       "      <th>x</th>\n",
       "      <th>unit</th>\n",
       "    </tr>\n",
       "  </thead>\n",
       "  <tbody>\n",
       "    <tr>\n",
       "      <th>0</th>\n",
       "      <td>24</td>\n",
       "      <td>1</td>\n",
       "    </tr>\n",
       "    <tr>\n",
       "      <th>1</th>\n",
       "      <td>50</td>\n",
       "      <td>1</td>\n",
       "    </tr>\n",
       "    <tr>\n",
       "      <th>2</th>\n",
       "      <td>15</td>\n",
       "      <td>1</td>\n",
       "    </tr>\n",
       "    <tr>\n",
       "      <th>3</th>\n",
       "      <td>38</td>\n",
       "      <td>1</td>\n",
       "    </tr>\n",
       "    <tr>\n",
       "      <th>4</th>\n",
       "      <td>87</td>\n",
       "      <td>1</td>\n",
       "    </tr>\n",
       "    <tr>\n",
       "      <th>...</th>\n",
       "      <td>...</td>\n",
       "      <td>...</td>\n",
       "    </tr>\n",
       "    <tr>\n",
       "      <th>140</th>\n",
       "      <td>56</td>\n",
       "      <td>1</td>\n",
       "    </tr>\n",
       "    <tr>\n",
       "      <th>141</th>\n",
       "      <td>80</td>\n",
       "      <td>1</td>\n",
       "    </tr>\n",
       "    <tr>\n",
       "      <th>142</th>\n",
       "      <td>26</td>\n",
       "      <td>1</td>\n",
       "    </tr>\n",
       "    <tr>\n",
       "      <th>143</th>\n",
       "      <td>25</td>\n",
       "      <td>1</td>\n",
       "    </tr>\n",
       "    <tr>\n",
       "      <th>144</th>\n",
       "      <td>8</td>\n",
       "      <td>1</td>\n",
       "    </tr>\n",
       "  </tbody>\n",
       "</table>\n",
       "<p>145 rows × 2 columns</p>\n",
       "</div>"
      ],
      "text/plain": [
       "      x  unit\n",
       "0    24     1\n",
       "1    50     1\n",
       "2    15     1\n",
       "3    38     1\n",
       "4    87     1\n",
       "..   ..   ...\n",
       "140  56     1\n",
       "141  80     1\n",
       "142  26     1\n",
       "143  25     1\n",
       "144   8     1\n",
       "\n",
       "[145 rows x 2 columns]"
      ]
     },
     "execution_count": 72,
     "metadata": {},
     "output_type": "execute_result"
    }
   ],
   "source": [
    "x['unit'] = 1 #Added a column all with the value 1 to indicate the unity therein\n",
    "# Adding the 1 all through existing row in the datasets\n",
    "\n",
    "x"
   ]
  },
  {
   "cell_type": "code",
   "execution_count": 73,
   "id": "9c12533b-622e-4275-a3b0-b4e926f704cd",
   "metadata": {},
   "outputs": [
    {
     "data": {
      "text/html": [
       "<div>\n",
       "<style scoped>\n",
       "    .dataframe tbody tr th:only-of-type {\n",
       "        vertical-align: middle;\n",
       "    }\n",
       "\n",
       "    .dataframe tbody tr th {\n",
       "        vertical-align: top;\n",
       "    }\n",
       "\n",
       "    .dataframe thead th {\n",
       "        text-align: right;\n",
       "    }\n",
       "</style>\n",
       "<table border=\"1\" class=\"dataframe\">\n",
       "  <thead>\n",
       "    <tr style=\"text-align: right;\">\n",
       "      <th></th>\n",
       "      <th>unit</th>\n",
       "      <th>x</th>\n",
       "    </tr>\n",
       "  </thead>\n",
       "  <tbody>\n",
       "    <tr>\n",
       "      <th>0</th>\n",
       "      <td>1</td>\n",
       "      <td>24</td>\n",
       "    </tr>\n",
       "    <tr>\n",
       "      <th>1</th>\n",
       "      <td>1</td>\n",
       "      <td>50</td>\n",
       "    </tr>\n",
       "    <tr>\n",
       "      <th>2</th>\n",
       "      <td>1</td>\n",
       "      <td>15</td>\n",
       "    </tr>\n",
       "    <tr>\n",
       "      <th>3</th>\n",
       "      <td>1</td>\n",
       "      <td>38</td>\n",
       "    </tr>\n",
       "    <tr>\n",
       "      <th>4</th>\n",
       "      <td>1</td>\n",
       "      <td>87</td>\n",
       "    </tr>\n",
       "    <tr>\n",
       "      <th>...</th>\n",
       "      <td>...</td>\n",
       "      <td>...</td>\n",
       "    </tr>\n",
       "    <tr>\n",
       "      <th>140</th>\n",
       "      <td>1</td>\n",
       "      <td>56</td>\n",
       "    </tr>\n",
       "    <tr>\n",
       "      <th>141</th>\n",
       "      <td>1</td>\n",
       "      <td>80</td>\n",
       "    </tr>\n",
       "    <tr>\n",
       "      <th>142</th>\n",
       "      <td>1</td>\n",
       "      <td>26</td>\n",
       "    </tr>\n",
       "    <tr>\n",
       "      <th>143</th>\n",
       "      <td>1</td>\n",
       "      <td>25</td>\n",
       "    </tr>\n",
       "    <tr>\n",
       "      <th>144</th>\n",
       "      <td>1</td>\n",
       "      <td>8</td>\n",
       "    </tr>\n",
       "  </tbody>\n",
       "</table>\n",
       "<p>145 rows × 2 columns</p>\n",
       "</div>"
      ],
      "text/plain": [
       "     unit   x\n",
       "0       1  24\n",
       "1       1  50\n",
       "2       1  15\n",
       "3       1  38\n",
       "4       1  87\n",
       "..    ...  ..\n",
       "140     1  56\n",
       "141     1  80\n",
       "142     1  26\n",
       "143     1  25\n",
       "144     1   8\n",
       "\n",
       "[145 rows x 2 columns]"
      ]
     },
     "execution_count": 73,
     "metadata": {},
     "output_type": "execute_result"
    }
   ],
   "source": [
    "# Now that the unit has been added to this,\n",
    "# As from the proove, its needed to change the order of the x data\n",
    "# Change such that the unit column (the unit with 1 all thorough) comes first then followed by the unit with x\n",
    "# Changing the order then made it met with the condition of the equation prooved in the note here\n",
    "\n",
    "x = x[['unit','x']] #This changed the order by placing the unit row first. \n",
    "x"
   ]
  },
  {
   "cell_type": "code",
   "execution_count": 74,
   "id": "6628d53c-afad-4bb2-8e6b-a074490636b7",
   "metadata": {},
   "outputs": [
    {
     "data": {
      "text/html": [
       "<div>\n",
       "<style scoped>\n",
       "    .dataframe tbody tr th:only-of-type {\n",
       "        vertical-align: middle;\n",
       "    }\n",
       "\n",
       "    .dataframe tbody tr th {\n",
       "        vertical-align: top;\n",
       "    }\n",
       "\n",
       "    .dataframe thead th {\n",
       "        text-align: right;\n",
       "    }\n",
       "</style>\n",
       "<table border=\"1\" class=\"dataframe\">\n",
       "  <thead>\n",
       "    <tr style=\"text-align: right;\">\n",
       "      <th></th>\n",
       "      <th>0</th>\n",
       "      <th>1</th>\n",
       "      <th>2</th>\n",
       "      <th>3</th>\n",
       "      <th>4</th>\n",
       "      <th>5</th>\n",
       "      <th>6</th>\n",
       "      <th>7</th>\n",
       "      <th>8</th>\n",
       "      <th>9</th>\n",
       "      <th>...</th>\n",
       "      <th>135</th>\n",
       "      <th>136</th>\n",
       "      <th>137</th>\n",
       "      <th>138</th>\n",
       "      <th>139</th>\n",
       "      <th>140</th>\n",
       "      <th>141</th>\n",
       "      <th>142</th>\n",
       "      <th>143</th>\n",
       "      <th>144</th>\n",
       "    </tr>\n",
       "  </thead>\n",
       "  <tbody>\n",
       "    <tr>\n",
       "      <th>unit</th>\n",
       "      <td>1</td>\n",
       "      <td>1</td>\n",
       "      <td>1</td>\n",
       "      <td>1</td>\n",
       "      <td>1</td>\n",
       "      <td>1</td>\n",
       "      <td>1</td>\n",
       "      <td>1</td>\n",
       "      <td>1</td>\n",
       "      <td>1</td>\n",
       "      <td>...</td>\n",
       "      <td>1</td>\n",
       "      <td>1</td>\n",
       "      <td>1</td>\n",
       "      <td>1</td>\n",
       "      <td>1</td>\n",
       "      <td>1</td>\n",
       "      <td>1</td>\n",
       "      <td>1</td>\n",
       "      <td>1</td>\n",
       "      <td>1</td>\n",
       "    </tr>\n",
       "    <tr>\n",
       "      <th>x</th>\n",
       "      <td>24</td>\n",
       "      <td>50</td>\n",
       "      <td>15</td>\n",
       "      <td>38</td>\n",
       "      <td>87</td>\n",
       "      <td>36</td>\n",
       "      <td>12</td>\n",
       "      <td>81</td>\n",
       "      <td>25</td>\n",
       "      <td>5</td>\n",
       "      <td>...</td>\n",
       "      <td>95</td>\n",
       "      <td>79</td>\n",
       "      <td>21</td>\n",
       "      <td>95</td>\n",
       "      <td>54</td>\n",
       "      <td>56</td>\n",
       "      <td>80</td>\n",
       "      <td>26</td>\n",
       "      <td>25</td>\n",
       "      <td>8</td>\n",
       "    </tr>\n",
       "  </tbody>\n",
       "</table>\n",
       "<p>2 rows × 145 columns</p>\n",
       "</div>"
      ],
      "text/plain": [
       "      0    1    2    3    4    5    6    7    8    9    ...  135  136  137  \\\n",
       "unit    1    1    1    1    1    1    1    1    1    1  ...    1    1    1   \n",
       "x      24   50   15   38   87   36   12   81   25    5  ...   95   79   21   \n",
       "\n",
       "      138  139  140  141  142  143  144  \n",
       "unit    1    1    1    1    1    1    1  \n",
       "x      95   54   56   80   26   25    8  \n",
       "\n",
       "[2 rows x 145 columns]"
      ]
     },
     "execution_count": 74,
     "metadata": {},
     "output_type": "execute_result"
    }
   ],
   "source": [
    "# now that i have x, to calculate for b, i will now be needing y and x transpose\n",
    "# using the .T method to find the transpose and storing in a variable xTranspose\n",
    "xTranspose = x.T\n",
    "\n",
    "\n",
    "xTranspose #This idea of calling it like this is known as echoing, i.e i echo the xTranpose variable"
   ]
  },
  {
   "cell_type": "code",
   "execution_count": 75,
   "id": "2730e90f-98aa-4e22-80a4-2a60f368bb22",
   "metadata": {},
   "outputs": [
    {
     "data": {
      "text/html": [
       "<div>\n",
       "<style scoped>\n",
       "    .dataframe tbody tr th:only-of-type {\n",
       "        vertical-align: middle;\n",
       "    }\n",
       "\n",
       "    .dataframe tbody tr th {\n",
       "        vertical-align: top;\n",
       "    }\n",
       "\n",
       "    .dataframe thead th {\n",
       "        text-align: right;\n",
       "    }\n",
       "</style>\n",
       "<table border=\"1\" class=\"dataframe\">\n",
       "  <thead>\n",
       "    <tr style=\"text-align: right;\">\n",
       "      <th></th>\n",
       "      <th>y</th>\n",
       "    </tr>\n",
       "  </thead>\n",
       "  <tbody>\n",
       "    <tr>\n",
       "      <th>0</th>\n",
       "      <td>21.549452</td>\n",
       "    </tr>\n",
       "    <tr>\n",
       "      <th>1</th>\n",
       "      <td>47.464463</td>\n",
       "    </tr>\n",
       "    <tr>\n",
       "      <th>2</th>\n",
       "      <td>17.218656</td>\n",
       "    </tr>\n",
       "    <tr>\n",
       "      <th>3</th>\n",
       "      <td>36.586398</td>\n",
       "    </tr>\n",
       "    <tr>\n",
       "      <th>4</th>\n",
       "      <td>87.288984</td>\n",
       "    </tr>\n",
       "    <tr>\n",
       "      <th>...</th>\n",
       "      <td>...</td>\n",
       "    </tr>\n",
       "    <tr>\n",
       "      <th>140</th>\n",
       "      <td>59.162366</td>\n",
       "    </tr>\n",
       "    <tr>\n",
       "      <th>141</th>\n",
       "      <td>75.241484</td>\n",
       "    </tr>\n",
       "    <tr>\n",
       "      <th>142</th>\n",
       "      <td>28.223258</td>\n",
       "    </tr>\n",
       "    <tr>\n",
       "      <th>143</th>\n",
       "      <td>25.333237</td>\n",
       "    </tr>\n",
       "    <tr>\n",
       "      <th>144</th>\n",
       "      <td>6.364616</td>\n",
       "    </tr>\n",
       "  </tbody>\n",
       "</table>\n",
       "<p>145 rows × 1 columns</p>\n",
       "</div>"
      ],
      "text/plain": [
       "             y\n",
       "0    21.549452\n",
       "1    47.464463\n",
       "2    17.218656\n",
       "3    36.586398\n",
       "4    87.288984\n",
       "..         ...\n",
       "140  59.162366\n",
       "141  75.241484\n",
       "142  28.223258\n",
       "143  25.333237\n",
       "144   6.364616\n",
       "\n",
       "[145 rows x 1 columns]"
      ]
     },
     "execution_count": 75,
     "metadata": {},
     "output_type": "execute_result"
    }
   ],
   "source": [
    "y = data[['y']] # Accessing the y column of the data datasets\n",
    "\n",
    "y #echoed it out"
   ]
  },
  {
   "cell_type": "code",
   "execution_count": 76,
   "id": "439712fd-12af-4d3c-b826-10abc45a98cd",
   "metadata": {},
   "outputs": [
    {
     "data": {
      "text/html": [
       "<div>\n",
       "<style scoped>\n",
       "    .dataframe tbody tr th:only-of-type {\n",
       "        vertical-align: middle;\n",
       "    }\n",
       "\n",
       "    .dataframe tbody tr th {\n",
       "        vertical-align: top;\n",
       "    }\n",
       "\n",
       "    .dataframe thead th {\n",
       "        text-align: right;\n",
       "    }\n",
       "</style>\n",
       "<table border=\"1\" class=\"dataframe\">\n",
       "  <thead>\n",
       "    <tr style=\"text-align: right;\">\n",
       "      <th></th>\n",
       "      <th>y</th>\n",
       "    </tr>\n",
       "  </thead>\n",
       "  <tbody>\n",
       "    <tr>\n",
       "      <th>0</th>\n",
       "      <td>21.549452</td>\n",
       "    </tr>\n",
       "    <tr>\n",
       "      <th>1</th>\n",
       "      <td>47.464463</td>\n",
       "    </tr>\n",
       "    <tr>\n",
       "      <th>2</th>\n",
       "      <td>17.218656</td>\n",
       "    </tr>\n",
       "    <tr>\n",
       "      <th>3</th>\n",
       "      <td>36.586398</td>\n",
       "    </tr>\n",
       "    <tr>\n",
       "      <th>4</th>\n",
       "      <td>87.288984</td>\n",
       "    </tr>\n",
       "    <tr>\n",
       "      <th>...</th>\n",
       "      <td>...</td>\n",
       "    </tr>\n",
       "    <tr>\n",
       "      <th>140</th>\n",
       "      <td>59.162366</td>\n",
       "    </tr>\n",
       "    <tr>\n",
       "      <th>141</th>\n",
       "      <td>75.241484</td>\n",
       "    </tr>\n",
       "    <tr>\n",
       "      <th>142</th>\n",
       "      <td>28.223258</td>\n",
       "    </tr>\n",
       "    <tr>\n",
       "      <th>143</th>\n",
       "      <td>25.333237</td>\n",
       "    </tr>\n",
       "    <tr>\n",
       "      <th>144</th>\n",
       "      <td>6.364616</td>\n",
       "    </tr>\n",
       "  </tbody>\n",
       "</table>\n",
       "<p>145 rows × 1 columns</p>\n",
       "</div>"
      ],
      "text/plain": [
       "             y\n",
       "0    21.549452\n",
       "1    47.464463\n",
       "2    17.218656\n",
       "3    36.586398\n",
       "4    87.288984\n",
       "..         ...\n",
       "140  59.162366\n",
       "141  75.241484\n",
       "142  28.223258\n",
       "143  25.333237\n",
       "144   6.364616\n",
       "\n",
       "[145 rows x 1 columns]"
      ]
     },
     "execution_count": 76,
     "metadata": {},
     "output_type": "execute_result"
    }
   ],
   "source": [
    "y = data[['y']].copy() #Create a copy of the y column from the dataset and store it to the vairiable y \n",
    "\n",
    "y"
   ]
  },
  {
   "cell_type": "code",
   "execution_count": 77,
   "id": "09b834f0-f1d5-4b87-90d3-4e867dad04cd",
   "metadata": {},
   "outputs": [
    {
     "data": {
      "text/html": [
       "<div>\n",
       "<style scoped>\n",
       "    .dataframe tbody tr th:only-of-type {\n",
       "        vertical-align: middle;\n",
       "    }\n",
       "\n",
       "    .dataframe tbody tr th {\n",
       "        vertical-align: top;\n",
       "    }\n",
       "\n",
       "    .dataframe thead th {\n",
       "        text-align: right;\n",
       "    }\n",
       "</style>\n",
       "<table border=\"1\" class=\"dataframe\">\n",
       "  <thead>\n",
       "    <tr style=\"text-align: right;\">\n",
       "      <th></th>\n",
       "      <th>0</th>\n",
       "      <th>1</th>\n",
       "      <th>2</th>\n",
       "      <th>3</th>\n",
       "      <th>4</th>\n",
       "      <th>5</th>\n",
       "      <th>6</th>\n",
       "      <th>7</th>\n",
       "      <th>8</th>\n",
       "      <th>9</th>\n",
       "      <th>...</th>\n",
       "      <th>135</th>\n",
       "      <th>136</th>\n",
       "      <th>137</th>\n",
       "      <th>138</th>\n",
       "      <th>139</th>\n",
       "      <th>140</th>\n",
       "      <th>141</th>\n",
       "      <th>142</th>\n",
       "      <th>143</th>\n",
       "      <th>144</th>\n",
       "    </tr>\n",
       "  </thead>\n",
       "  <tbody>\n",
       "    <tr>\n",
       "      <th>y</th>\n",
       "      <td>21.549452</td>\n",
       "      <td>47.464463</td>\n",
       "      <td>17.218656</td>\n",
       "      <td>36.586398</td>\n",
       "      <td>87.288984</td>\n",
       "      <td>32.463875</td>\n",
       "      <td>10.780897</td>\n",
       "      <td>80.763399</td>\n",
       "      <td>24.612151</td>\n",
       "      <td>6.963319</td>\n",
       "      <td>...</td>\n",
       "      <td>92.157498</td>\n",
       "      <td>81.222592</td>\n",
       "      <td>25.101141</td>\n",
       "      <td>94.088534</td>\n",
       "      <td>53.251662</td>\n",
       "      <td>59.162366</td>\n",
       "      <td>75.241484</td>\n",
       "      <td>28.223258</td>\n",
       "      <td>25.333237</td>\n",
       "      <td>6.364616</td>\n",
       "    </tr>\n",
       "  </tbody>\n",
       "</table>\n",
       "<p>1 rows × 145 columns</p>\n",
       "</div>"
      ],
      "text/plain": [
       "         0          1          2          3          4          5    \\\n",
       "y  21.549452  47.464463  17.218656  36.586398  87.288984  32.463875   \n",
       "\n",
       "         6          7          8         9    ...        135        136  \\\n",
       "y  10.780897  80.763399  24.612151  6.963319  ...  92.157498  81.222592   \n",
       "\n",
       "         137        138        139        140        141        142  \\\n",
       "y  25.101141  94.088534  53.251662  59.162366  75.241484  28.223258   \n",
       "\n",
       "         143       144  \n",
       "y  25.333237  6.364616  \n",
       "\n",
       "[1 rows x 145 columns]"
      ]
     },
     "execution_count": 77,
     "metadata": {},
     "output_type": "execute_result"
    }
   ],
   "source": [
    "yTranspose = y.T #Did the transpose of y,\n",
    "# Though this isnt needed to calculate for B (ie=.e the coefficientet value) but just exploring\n",
    "\n",
    "\n",
    "yTranspose"
   ]
  },
  {
   "cell_type": "code",
   "execution_count": 78,
   "id": "4121fefd-c7aa-4070-9b7d-c02d29ac42c6",
   "metadata": {},
   "outputs": [
    {
     "data": {
      "text/html": [
       "<div>\n",
       "<style scoped>\n",
       "    .dataframe tbody tr th:only-of-type {\n",
       "        vertical-align: middle;\n",
       "    }\n",
       "\n",
       "    .dataframe tbody tr th {\n",
       "        vertical-align: top;\n",
       "    }\n",
       "\n",
       "    .dataframe thead th {\n",
       "        text-align: right;\n",
       "    }\n",
       "</style>\n",
       "<table border=\"1\" class=\"dataframe\">\n",
       "  <thead>\n",
       "    <tr style=\"text-align: right;\">\n",
       "      <th></th>\n",
       "      <th>unit</th>\n",
       "      <th>x</th>\n",
       "    </tr>\n",
       "  </thead>\n",
       "  <tbody>\n",
       "    <tr>\n",
       "      <th>unit</th>\n",
       "      <td>145</td>\n",
       "      <td>6343</td>\n",
       "    </tr>\n",
       "    <tr>\n",
       "      <th>x</th>\n",
       "      <td>6343</td>\n",
       "      <td>383357</td>\n",
       "    </tr>\n",
       "  </tbody>\n",
       "</table>\n",
       "</div>"
      ],
      "text/plain": [
       "      unit       x\n",
       "unit   145    6343\n",
       "x     6343  383357"
      ]
     },
     "execution_count": 78,
     "metadata": {},
     "output_type": "execute_result"
    }
   ],
   "source": [
    "# again, Remember, the regression equation as prooved in the notebook here,\n",
    "\n",
    "# B = inv(xTranspose x X) x xTranspose x y\n",
    "# Where B is the coefficient value\n",
    "\n",
    "# Since i already have x, y and xTranspose, lets solve further\n",
    "\n",
    "# Firstly, i will solve for (x^T x) i.e xTranspose multiplied by x\n",
    "\n",
    "# but to achieve that, becasue x and xTranspose aint scalar value but matrixes\n",
    "# then i need to do the multiplication\n",
    "# something intresting here, i can multiply because both matrices met the rule of matrices multiplication\n",
    "# # where the rule says the number of the 1st matrix column must be equal to the row of the 2nd matrix\n",
    "# Which means the multiplication of xtranspose and x here would be good to go\n",
    "\n",
    "xTmultiplyx = x.T @ x\n",
    "# Remeber that the @ is an operator that is used to multiply matrices together ih this scenerio\n",
    "# While using the @ is just a way, another way of multiplying matric is use the numpy dot notation.\n",
    "# So take note that, when multiplying scalar digits, we use the * operator\n",
    "# But when multiplying matrixex like that, we use the @ operator.\n",
    "\n",
    "\n",
    "xTmultiplyx"
   ]
  },
  {
   "cell_type": "code",
   "execution_count": 79,
   "id": "57436078-1147-4504-b89c-50df21627de1",
   "metadata": {},
   "outputs": [
    {
     "data": {
      "text/plain": [
       "array([[ 2.49693287e-02, -4.13140889e-04],\n",
       "       [-4.13140889e-04,  9.44433690e-06]])"
      ]
     },
     "execution_count": 79,
     "metadata": {},
     "output_type": "execute_result"
    }
   ],
   "source": [
    "# Now, after sucessful multiplication, as seen above. i will find its invers\n",
    "\n",
    "# TO find its inverse, i need the inv method i can find within the linear algebra method in the numpy module\n",
    "# take note  :  linear algebra ======== linalg\n",
    "# inverse ====== inv()\n",
    "\n",
    "inverseValue = np.linalg.inv(xTmultiplyx) #Passed by multiplied matrix result into the inv function\n",
    "\n",
    "# Remember here, you can simply hit the tab button to use the intellisence option to help list \n",
    "# possible methods in a class when working on stuffs like that.\n",
    "\n",
    "# Also, ctrl + i in jupyter lab with bring out the Contextual Help tab to help read documentation faster\n",
    "inverseValue"
   ]
  },
  {
   "cell_type": "code",
   "execution_count": 80,
   "id": "1832442b-6e4f-4175-864d-be6e893acdaf",
   "metadata": {},
   "outputs": [
    {
     "data": {
      "text/html": [
       "<div>\n",
       "<style scoped>\n",
       "    .dataframe tbody tr th:only-of-type {\n",
       "        vertical-align: middle;\n",
       "    }\n",
       "\n",
       "    .dataframe tbody tr th {\n",
       "        vertical-align: top;\n",
       "    }\n",
       "\n",
       "    .dataframe thead th {\n",
       "        text-align: right;\n",
       "    }\n",
       "</style>\n",
       "<table border=\"1\" class=\"dataframe\">\n",
       "  <thead>\n",
       "    <tr style=\"text-align: right;\">\n",
       "      <th></th>\n",
       "      <th>y</th>\n",
       "    </tr>\n",
       "  </thead>\n",
       "  <tbody>\n",
       "    <tr>\n",
       "      <th>0</th>\n",
       "      <td>0.394575</td>\n",
       "    </tr>\n",
       "    <tr>\n",
       "      <th>1</th>\n",
       "      <td>0.988377</td>\n",
       "    </tr>\n",
       "  </tbody>\n",
       "</table>\n",
       "</div>"
      ],
      "text/plain": [
       "          y\n",
       "0  0.394575\n",
       "1  0.988377"
      ]
     },
     "execution_count": 80,
     "metadata": {},
     "output_type": "execute_result"
    }
   ],
   "source": [
    "#Calculating for B from by formula here\n",
    "coefficient_value = inverseValue @ xTranspose @ y\n",
    "\n",
    "coefficient_value\n",
    "\n",
    "# Now below is the value for the coeffcient_value (i.e B)\n",
    "\n",
    "# But notice that the value isnt straighaway enough and clear as its a matrice\n",
    "# We can then reassign the right column name back to the matricex gotten as coeffcient value "
   ]
  },
  {
   "cell_type": "code",
   "execution_count": 81,
   "id": "ab09bad6-fd2b-43fb-aed8-ef46f55f113f",
   "metadata": {},
   "outputs": [
    {
     "data": {
      "text/html": [
       "<div>\n",
       "<style scoped>\n",
       "    .dataframe tbody tr th:only-of-type {\n",
       "        vertical-align: middle;\n",
       "    }\n",
       "\n",
       "    .dataframe tbody tr th {\n",
       "        vertical-align: top;\n",
       "    }\n",
       "\n",
       "    .dataframe thead th {\n",
       "        text-align: right;\n",
       "    }\n",
       "</style>\n",
       "<table border=\"1\" class=\"dataframe\">\n",
       "  <thead>\n",
       "    <tr style=\"text-align: right;\">\n",
       "      <th></th>\n",
       "      <th>y</th>\n",
       "    </tr>\n",
       "  </thead>\n",
       "  <tbody>\n",
       "    <tr>\n",
       "      <th>unit</th>\n",
       "      <td>0.394575</td>\n",
       "    </tr>\n",
       "    <tr>\n",
       "      <th>x</th>\n",
       "      <td>0.988377</td>\n",
       "    </tr>\n",
       "  </tbody>\n",
       "</table>\n",
       "</div>"
      ],
      "text/plain": [
       "             y\n",
       "unit  0.394575\n",
       "x     0.988377"
      ]
     },
     "execution_count": 81,
     "metadata": {},
     "output_type": "execute_result"
    }
   ],
   "source": [
    "coefficient_value.index = x.columns #This reassign the name of the colun and row of the matrices .\n",
    "\n",
    "# i.e instead of having 0 and 1, we replace it with unit and x as it was before much heavy calculations\n",
    "\n",
    "coefficient_value"
   ]
  },
  {
   "cell_type": "code",
   "execution_count": 82,
   "id": "9e24910d-4118-4354-8e99-1c70adae6499",
   "metadata": {},
   "outputs": [
    {
     "data": {
      "text/html": [
       "<div>\n",
       "<style scoped>\n",
       "    .dataframe tbody tr th:only-of-type {\n",
       "        vertical-align: middle;\n",
       "    }\n",
       "\n",
       "    .dataframe tbody tr th {\n",
       "        vertical-align: top;\n",
       "    }\n",
       "\n",
       "    .dataframe thead th {\n",
       "        text-align: right;\n",
       "    }\n",
       "</style>\n",
       "<table border=\"1\" class=\"dataframe\">\n",
       "  <thead>\n",
       "    <tr style=\"text-align: right;\">\n",
       "      <th></th>\n",
       "      <th>y</th>\n",
       "    </tr>\n",
       "  </thead>\n",
       "  <tbody>\n",
       "    <tr>\n",
       "      <th>0</th>\n",
       "      <td>24.115613</td>\n",
       "    </tr>\n",
       "    <tr>\n",
       "      <th>1</th>\n",
       "      <td>49.813405</td>\n",
       "    </tr>\n",
       "    <tr>\n",
       "      <th>2</th>\n",
       "      <td>15.220224</td>\n",
       "    </tr>\n",
       "    <tr>\n",
       "      <th>3</th>\n",
       "      <td>37.952886</td>\n",
       "    </tr>\n",
       "    <tr>\n",
       "      <th>4</th>\n",
       "      <td>86.383340</td>\n",
       "    </tr>\n",
       "    <tr>\n",
       "      <th>...</th>\n",
       "      <td>...</td>\n",
       "    </tr>\n",
       "    <tr>\n",
       "      <th>140</th>\n",
       "      <td>55.743665</td>\n",
       "    </tr>\n",
       "    <tr>\n",
       "      <th>141</th>\n",
       "      <td>79.464704</td>\n",
       "    </tr>\n",
       "    <tr>\n",
       "      <th>142</th>\n",
       "      <td>26.092367</td>\n",
       "    </tr>\n",
       "    <tr>\n",
       "      <th>143</th>\n",
       "      <td>25.103990</td>\n",
       "    </tr>\n",
       "    <tr>\n",
       "      <th>144</th>\n",
       "      <td>8.301588</td>\n",
       "    </tr>\n",
       "  </tbody>\n",
       "</table>\n",
       "<p>145 rows × 1 columns</p>\n",
       "</div>"
      ],
      "text/plain": [
       "             y\n",
       "0    24.115613\n",
       "1    49.813405\n",
       "2    15.220224\n",
       "3    37.952886\n",
       "4    86.383340\n",
       "..         ...\n",
       "140  55.743665\n",
       "141  79.464704\n",
       "142  26.092367\n",
       "143  25.103990\n",
       "144   8.301588\n",
       "\n",
       "[145 rows x 1 columns]"
      ]
     },
     "execution_count": 82,
     "metadata": {},
     "output_type": "execute_result"
    }
   ],
   "source": [
    "# Next is to continue with the calculations\n",
    "# Remember yHat (i.e y with caret at its head :) ) has the formula (yhat  = xB)\n",
    "# Where B is the coefficient value\n",
    "\n",
    "yHat = x @ coefficient_value #Recall from my formula here, yHat is the estimated y which is the prediction \n",
    "\n",
    "yHat"
   ]
  },
  {
   "cell_type": "markdown",
   "id": "3ad4b9df-ea9f-4e27-891d-8a9c0fbb9cfe",
   "metadata": {},
   "source": [
    "### Now, while yhat is the predicted value ( i.e estimated y)\n",
    "### A way to calculate the  accuracy of the predicted y is by calculating rquare\n",
    "### rSquare is a recommended and common way of validating the accuracy of a predicted value\n",
    "### rSquare is common to judge the performance of regression models \n",
    "### rSquare values lies between 0 to 100% \n",
    "- rSquare formula is       rSquare = (1 - (ssr / sst))\n",
    "### where ssr == Sum of Square Residual \n",
    "- Formula for ssr is    ssr = [ summation (y - yhat)^2 ]\n",
    "### and sst == SUm of Square Total \n",
    "- formula for sst is  sst = [  summation (y - ymean )^2 NB: ymean is also called ybar"
   ]
  },
  {
   "cell_type": "code",
   "execution_count": 83,
   "id": "90a91b82-b846-4373-860c-d45379a25365",
   "metadata": {},
   "outputs": [
    {
     "data": {
      "text/plain": [
       "y    1159.674735\n",
       "dtype: float64"
      ]
     },
     "execution_count": 83,
     "metadata": {},
     "output_type": "execute_result"
    }
   ],
   "source": [
    "# Now, calculating to ssr (i.e SUm of Square Residual)\n",
    "# FOrmula is ssr = [ summation (y - yhat)^2 ]\n",
    "ssr = ((y - yHat)**2).sum()\n",
    "\n",
    "ssr"
   ]
  },
  {
   "cell_type": "code",
   "execution_count": 84,
   "id": "01c2e64e-28d6-43fa-81a3-c5e4a7254683",
   "metadata": {},
   "outputs": [
    {
     "data": {
      "text/plain": [
       "43.63093935146896"
      ]
     },
     "execution_count": 84,
     "metadata": {},
     "output_type": "execute_result"
    }
   ],
   "source": [
    "# Then i calculate for sst using its formula \n",
    "# sst = [  summation (y - ymean )^2 NB: ymean is also called ybar\n",
    "# Lets solve for ymean and then sst\n",
    "yMean = np.mean(y)\n",
    "\n",
    "yMean"
   ]
  },
  {
   "cell_type": "code",
   "execution_count": 85,
   "id": "22ce47a6-85e5-4a31-a028-df37eb122d4e",
   "metadata": {},
   "outputs": [
    {
     "data": {
      "text/plain": [
       "y    104596.088053\n",
       "dtype: float64"
      ]
     },
     "execution_count": 85,
     "metadata": {},
     "output_type": "execute_result"
    }
   ],
   "source": [
    "#Calculating sst\n",
    "sst = ((y - yMean)**2).sum()\n",
    "\n",
    "sst"
   ]
  },
  {
   "cell_type": "code",
   "execution_count": 86,
   "id": "9193805e-ccd1-4696-b06c-d941019d9e96",
   "metadata": {},
   "outputs": [
    {
     "data": {
      "text/plain": [
       "y    0.988913\n",
       "dtype: float64"
      ]
     },
     "execution_count": 86,
     "metadata": {},
     "output_type": "execute_result"
    }
   ],
   "source": [
    "# Now lets calculate rSquare\n",
    "\n",
    "rSquare = 1 - (ssr/sst)\n",
    "\n",
    "rSquare"
   ]
  },
  {
   "cell_type": "markdown",
   "id": "35d4037e-38a8-438e-b656-31063b370e11",
   "metadata": {},
   "source": [
    "## As seen from the result of rSquare, its 0.988913, which means that our model is 98% accurate. This means that the predicted value for y is almost very accurate.\n",
    "- Note: another way to use the word is; Our Confidence level is 98% accurate.\n",
    "- Those are just terms used inthe field\n",
    "\n",
    "### Note that while the accurate here is good, if a model have a poor accurate value, maybe 70 or below, that a sign that maybe the dataset used is not a linear, and then linear regression might not be the best algorithm to use to solve the problem or to use with the dataset"
   ]
  },
  {
   "cell_type": "code",
   "execution_count": 87,
   "id": "e0531e43-d37d-459f-856a-1a9e82c3733a",
   "metadata": {},
   "outputs": [
    {
     "data": {
      "text/plain": [
       "<module 'matplotlib.pyplot' from 'C:\\\\Users\\\\DELL\\\\AppData\\\\Local\\\\Programs\\\\Python\\\\Python311\\\\Lib\\\\site-packages\\\\matplotlib\\\\pyplot.py'>"
      ]
     },
     "execution_count": 87,
     "metadata": {},
     "output_type": "execute_result"
    }
   ],
   "source": [
    "# Now after allof this, lets plot this data we have on a linear graph to see how the data truly aligns\n",
    "# FOr the plotting, we would be using the matlplotlib\n",
    "\n",
    "import matplotlib.pyplot as mplt\n",
    "\n",
    "mplt"
   ]
  },
  {
   "cell_type": "code",
   "execution_count": 88,
   "id": "86124d8c-8bfd-486d-9afd-79a2d8c74f5e",
   "metadata": {},
   "outputs": [
    {
     "data": {
      "text/plain": [
       "[<matplotlib.lines.Line2D at 0x16ea256dfd0>,\n",
       " <matplotlib.lines.Line2D at 0x16ea254b310>]"
      ]
     },
     "execution_count": 88,
     "metadata": {},
     "output_type": "execute_result"
    },
    {
     "data": {
      "image/png": "[encoded data removed]",
      "text/plain": [
       "<Figure size 640x480 with 1 Axes>"
      ]
     },
     "metadata": {},
     "output_type": "display_data"
    }
   ],
   "source": [
    "mplt.plot(x, y, color = 'Red')"
   ]
  },
  {
   "cell_type": "code",
   "execution_count": null,
   "id": "4e5c7fa9-e954-4a99-a3f1-1942c7e5aad6",
   "metadata": {},
   "outputs": [],
   "source": []
  }
 ],
 "metadata": {
  "kernelspec": {
   "display_name": "Python 3 (ipykernel)",
   "language": "python",
   "name": "python3"
  },
  "language_info": {
   "codemirror_mode": {
    "name": "ipython",
    "version": 3
   },
   "file_extension": ".py",
   "mimetype": "text/x-python",
   "name": "python",
   "nbconvert_exporter": "python",
   "pygments_lexer": "ipython3",
   "version": "3.11.5"
  }
 },
 "nbformat": 4,
 "nbformat_minor": 5
}
